{
 "cells": [
  {
   "cell_type": "code",
   "id": "initial_id",
   "metadata": {
    "collapsed": true,
    "ExecuteTime": {
     "end_time": "2025-04-06T05:18:25.679204Z",
     "start_time": "2025-04-06T05:18:25.620694Z"
    }
   },
   "source": [
    "from transformers import BertTokenizerFast, BertForSequenceClassification\n",
    "import torch\n",
    "device = torch.device('cuda' if torch.cuda.is_available() else 'cpu')"
   ],
   "outputs": [],
   "execution_count": 2
  },
  {
   "metadata": {
    "ExecuteTime": {
     "end_time": "2025-04-06T05:19:04.360603Z",
     "start_time": "2025-04-06T05:19:03.871792Z"
    }
   },
   "cell_type": "code",
   "source": [
    "model = BertForSequenceClassification.from_pretrained(\"./sentiment_analysis\").to(device)\n",
    "tokenizer = BertTokenizerFast.from_pretrained(\"./sentiment_analysis\")"
   ],
   "id": "ceeae18a99a877c4",
   "outputs": [],
   "execution_count": 3
  },
  {
   "metadata": {
    "ExecuteTime": {
     "end_time": "2025-04-06T05:25:35.551848Z",
     "start_time": "2025-04-06T05:25:28.557077Z"
    }
   },
   "cell_type": "code",
   "source": [
    "def predict(text):\n",
    "    input_ids = tokenizer(text,return_tensors=\"pt\", truncation=True,padding=True,max_length=128).to(device)\n",
    "    with torch.no_grad():\n",
    "        outputs = model(**input_ids)\n",
    "        probs = torch.softmax(outputs.logits, dim=-1)\n",
    "        preds = torch.argmax(probs, dim=-1).item()\n",
    "        sentiment = \"positive\" if preds == 1 else \"negative\"\n",
    "        return sentiment\n",
    "\n",
    "user_input = input(\"Enter a movie review: \")\n",
    "result = predict(user_input)\n",
    "print(f\"{result}\")"
   ],
   "id": "8bd6d434535bfee6",
   "outputs": [
    {
     "name": "stdout",
     "output_type": "stream",
     "text": [
      "positive\n"
     ]
    }
   ],
   "execution_count": 9
  },
  {
   "metadata": {},
   "cell_type": "code",
   "outputs": [],
   "execution_count": null,
   "source": "",
   "id": "b6b90245db98f0e7"
  }
 ],
 "metadata": {
  "kernelspec": {
   "display_name": "Python 3",
   "language": "python",
   "name": "python3"
  },
  "language_info": {
   "codemirror_mode": {
    "name": "ipython",
    "version": 2
   },
   "file_extension": ".py",
   "mimetype": "text/x-python",
   "name": "python",
   "nbconvert_exporter": "python",
   "pygments_lexer": "ipython2",
   "version": "2.7.6"
  }
 },
 "nbformat": 4,
 "nbformat_minor": 5
}
