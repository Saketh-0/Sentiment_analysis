{
 "cells": [
  {
   "cell_type": "code",
   "id": "initial_id",
   "metadata": {
    "collapsed": true,
    "ExecuteTime": {
     "end_time": "2025-04-05T08:34:39.843441Z",
     "start_time": "2025-04-05T08:34:32.842701Z"
    }
   },
   "source": "import pandas as pd",
   "outputs": [],
   "execution_count": 1
  },
  {
   "metadata": {
    "ExecuteTime": {
     "end_time": "2025-04-05T08:35:40.033802Z",
     "start_time": "2025-04-05T08:35:38.489200Z"
    }
   },
   "cell_type": "code",
   "source": [
    "df = pd.read_csv(\"IMDB Dataset.csv.zip\")\n",
    "df = df.sample(frac=1).reset_index(drop=True)"
   ],
   "id": "3187d1901d6290c3",
   "outputs": [],
   "execution_count": 2
  },
  {
   "metadata": {
    "ExecuteTime": {
     "end_time": "2025-04-05T08:37:04.815634Z",
     "start_time": "2025-04-05T08:37:02.585105Z"
    }
   },
   "cell_type": "code",
   "source": [
    "df[\"label\"] = df[\"sentiment\"].map({\"positive\": 1, \"negative\": 0})\n",
    "df = df[[\"review\", \"label\"]]\n",
    "df.to_csv(\"cleaned_data.csv\", index=False)"
   ],
   "id": "e5b98ed5a724f2b6",
   "outputs": [],
   "execution_count": 3
  }
 ],
 "metadata": {
  "kernelspec": {
   "display_name": "Python 3",
   "language": "python",
   "name": "python3"
  },
  "language_info": {
   "codemirror_mode": {
    "name": "ipython",
    "version": 2
   },
   "file_extension": ".py",
   "mimetype": "text/x-python",
   "name": "python",
   "nbconvert_exporter": "python",
   "pygments_lexer": "ipython2",
   "version": "2.7.6"
  }
 },
 "nbformat": 4,
 "nbformat_minor": 5
}
