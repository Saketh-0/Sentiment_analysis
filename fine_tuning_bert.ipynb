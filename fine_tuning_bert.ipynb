{
 "cells": [
  {
   "cell_type": "code",
   "id": "initial_id",
   "metadata": {
    "collapsed": true,
    "ExecuteTime": {
     "end_time": "2025-04-05T09:31:37.382833Z",
     "start_time": "2025-04-05T09:31:37.367296Z"
    }
   },
   "source": [
    "from tokenize import tokenize\n",
    "\n",
    "import pandas as pd\n",
    "from transformers import AutoTokenizer,AutoModelForSequenceClassification,Trainer,TrainingArguments\n",
    "from sklearn.model_selection import train_test_split\n",
    "import torch\n",
    "from datasets import Dataset\n",
    "device = torch.device(\"cuda\" if torch.cuda.is_available() else \"cpu\")\n"
   ],
   "outputs": [],
   "execution_count": 28
  },
  {
   "metadata": {
    "ExecuteTime": {
     "end_time": "2025-04-05T09:19:43.016524Z",
     "start_time": "2025-04-05T09:19:40.813011Z"
    }
   },
   "cell_type": "code",
   "source": [
    "df = pd.read_csv(\"cleaned_data.csv\")\n",
    "train_texts, test_texts, train_labels, test_labels = train_test_split(df[\"review\"].tolist(),df[\"label\"].tolist(), test_size=0.2)"
   ],
   "id": "957691e6eb551cbf",
   "outputs": [],
   "execution_count": 25
  },
  {
   "metadata": {
    "ExecuteTime": {
     "end_time": "2025-04-05T09:35:01.701617Z",
     "start_time": "2025-04-05T09:34:30.746819Z"
    }
   },
   "cell_type": "code",
   "source": [
    "tokenizer = AutoTokenizer.from_pretrained(\"prajjwal1/bert-mini\")\n",
    "def preprocess_data(texts,labels):\n",
    "    encodings = tokenizer(texts,padding=\"max_length\",truncation=True,max_length=128)\n",
    "    encodings[\"labels\"] = labels\n",
    "    return Dataset.from_dict(encodings)\n",
    "train_dataset = preprocess_data(train_texts,train_labels)\n",
    "test_dataset = preprocess_data(test_texts,test_labels)\n",
    "\n",
    "model = AutoModelForSequenceClassification.from_pretrained(\"prajjwal1/bert-mini\",num_labels=2)"
   ],
   "id": "280bbc36b3a1feb2",
   "outputs": [
    {
     "data": {
      "text/plain": [
       "config.json:   0%|          | 0.00/286 [00:00<?, ?B/s]"
      ],
      "application/vnd.jupyter.widget-view+json": {
       "version_major": 2,
       "version_minor": 0,
       "model_id": "c333dd0b1a70480097ae9d11c7f5f9da"
      }
     },
     "metadata": {},
     "output_type": "display_data"
    },
    {
     "name": "stderr",
     "output_type": "stream",
     "text": [
      "C:\\Users\\saketh\\AppData\\Local\\Programs\\Python\\Python312\\Lib\\site-packages\\huggingface_hub\\file_download.py:144: UserWarning: `huggingface_hub` cache-system uses symlinks by default to efficiently store duplicated files but your machine does not support them in C:\\Users\\saketh\\.cache\\huggingface\\hub\\models--prajjwal1--bert-mini. Caching files will still work but in a degraded version that might require more space on your disk. This warning can be disabled by setting the `HF_HUB_DISABLE_SYMLINKS_WARNING` environment variable. For more details, see https://huggingface.co/docs/huggingface_hub/how-to-cache#limitations.\n",
      "To support symlinks on Windows, you either need to activate Developer Mode or to run Python as an administrator. In order to activate developer mode, see this article: https://docs.microsoft.com/en-us/windows/apps/get-started/enable-your-device-for-development\n",
      "  warnings.warn(message)\n"
     ]
    },
    {
     "data": {
      "text/plain": [
       "vocab.txt:   0%|          | 0.00/232k [00:00<?, ?B/s]"
      ],
      "application/vnd.jupyter.widget-view+json": {
       "version_major": 2,
       "version_minor": 0,
       "model_id": "55b22f29aa014c0bae8013742e9e7bb4"
      }
     },
     "metadata": {},
     "output_type": "display_data"
    },
    {
     "data": {
      "text/plain": [
       "pytorch_model.bin:   0%|          | 0.00/45.1M [00:00<?, ?B/s]"
      ],
      "application/vnd.jupyter.widget-view+json": {
       "version_major": 2,
       "version_minor": 0,
       "model_id": "6252c236fc1d4724a9fe639f5061d15a"
      }
     },
     "metadata": {},
     "output_type": "display_data"
    },
    {
     "name": "stderr",
     "output_type": "stream",
     "text": [
      "Some weights of BertForSequenceClassification were not initialized from the model checkpoint at prajjwal1/bert-mini and are newly initialized: ['classifier.bias', 'classifier.weight']\n",
      "You should probably TRAIN this model on a down-stream task to be able to use it for predictions and inference.\n"
     ]
    }
   ],
   "execution_count": 31
  },
  {
   "metadata": {
    "ExecuteTime": {
     "end_time": "2025-04-05T18:32:14.206853Z",
     "start_time": "2025-04-05T18:05:43.656193Z"
    }
   },
   "cell_type": "code",
   "source": [
    "training_args = TrainingArguments(output_dir=\"./output\",num_train_epochs=1,per_device_train_batch_size=32,\n",
    "                                  per_device_eval_batch_size=32,\n",
    "                                  eval_strategy=\"epoch\",\n",
    "                                  logging_dir=\"./logs\",\n",
    "                                  logging_steps=100,\n",
    "                                  load_best_model_at_end=True,\n",
    "                                  save_total_limit=1,\n",
    "                                  save_strategy=\"epoch\",)\n",
    "trainer = Trainer(model=model,args=training_args,train_dataset=train_dataset,eval_dataset=test_dataset,)\n",
    "trainer.train()\n",
    "\n",
    "model.save_pretrained(\"./sentiment_analysis\")\n",
    "tokenizer.save_pretrained(\"./sentiment_analysis\")"
   ],
   "id": "e505fb178270a971",
   "outputs": [
    {
     "data": {
      "text/plain": [
       "<IPython.core.display.HTML object>"
      ],
      "text/html": [
       "\n",
       "    <div>\n",
       "      \n",
       "      <progress value='1250' max='1250' style='width:300px; height:20px; vertical-align: middle;'></progress>\n",
       "      [1250/1250 26:28, Epoch 1/1]\n",
       "    </div>\n",
       "    <table border=\"1\" class=\"dataframe\">\n",
       "  <thead>\n",
       " <tr style=\"text-align: left;\">\n",
       "      <th>Epoch</th>\n",
       "      <th>Training Loss</th>\n",
       "      <th>Validation Loss</th>\n",
       "    </tr>\n",
       "  </thead>\n",
       "  <tbody>\n",
       "    <tr>\n",
       "      <td>1</td>\n",
       "      <td>0.358600</td>\n",
       "      <td>0.345289</td>\n",
       "    </tr>\n",
       "  </tbody>\n",
       "</table><p>"
      ]
     },
     "metadata": {},
     "output_type": "display_data"
    },
    {
     "data": {
      "text/plain": [
       "('./sentiment_analysis\\\\tokenizer_config.json',\n",
       " './sentiment_analysis\\\\special_tokens_map.json',\n",
       " './sentiment_analysis\\\\vocab.txt',\n",
       " './sentiment_analysis\\\\added_tokens.json',\n",
       " './sentiment_analysis\\\\tokenizer.json')"
      ]
     },
     "execution_count": 39,
     "metadata": {},
     "output_type": "execute_result"
    }
   ],
   "execution_count": 39
  },
  {
   "metadata": {},
   "cell_type": "code",
   "outputs": [],
   "execution_count": null,
   "source": "",
   "id": "2fb9064884f28fc"
  }
 ],
 "metadata": {
  "kernelspec": {
   "display_name": "Python 3",
   "language": "python",
   "name": "python3"
  },
  "language_info": {
   "codemirror_mode": {
    "name": "ipython",
    "version": 2
   },
   "file_extension": ".py",
   "mimetype": "text/x-python",
   "name": "python",
   "nbconvert_exporter": "python",
   "pygments_lexer": "ipython2",
   "version": "2.7.6"
  }
 },
 "nbformat": 4,
 "nbformat_minor": 5
}
